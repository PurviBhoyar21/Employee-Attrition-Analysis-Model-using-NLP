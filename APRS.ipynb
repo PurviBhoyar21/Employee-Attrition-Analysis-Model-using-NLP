{
  "cells": [
    {
      "cell_type": "markdown",
      "metadata": {
        "id": "ez1UQySzSx81"
      },
      "source": [
        "#**EMPLOYEE ATTRITION ANALYSIS MODEL OF TOP IT COMPANIES**\n"
      ]
    },
    {
      "cell_type": "code",
      "source": [
        "from google.colab import drive\n",
        "drive.mount('/content/drive')"
      ],
      "metadata": {
        "colab": {
          "base_uri": "https://localhost:8080/"
        },
        "id": "qY8RqI5Ygsag",
        "outputId": "ad08e4d8-0748-4469-cbe5-8aebb1ddfa2b"
      },
      "execution_count": null,
      "outputs": [
        {
          "output_type": "stream",
          "name": "stdout",
          "text": [
            "Mounted at /content/drive\n"
          ]
        }
      ]
    },
    {
      "cell_type": "code",
      "execution_count": null,
      "metadata": {
        "id": "z694blXqJFXW"
      },
      "outputs": [],
      "source": [
        "import numpy as np    #Importing necessary libraries and packages\n",
        "import pandas as pd \n",
        "import matplotlib.pyplot as plt\n",
        "import seaborn as sns\n",
        "%matplotlib inline\n",
        "from wordcloud import WordCloud, STOPWORDS "
      ]
    },
    {
      "cell_type": "code",
      "execution_count": null,
      "metadata": {
        "id": "AmaIQkzmlOz-"
      },
      "outputs": [],
      "source": [
        "plt.style.use('dark_background') #Plot dark mode "
      ]
    },
    {
      "cell_type": "code",
      "execution_count": null,
      "metadata": {
        "id": "T1qk6JGiJFZu",
        "colab": {
          "base_uri": "https://localhost:8080/",
          "height": 467
        },
        "outputId": "c448a6b1-2cda-4381-8236-c881207d70cb"
      },
      "outputs": [
        {
          "output_type": "error",
          "ename": "ImportError",
          "evalue": "ignored",
          "traceback": [
            "\u001b[0;31m---------------------------------------------------------------------------\u001b[0m",
            "\u001b[0;31mImportError\u001b[0m                               Traceback (most recent call last)",
            "\u001b[0;32m<ipython-input-5-6596ebec0c64>\u001b[0m in \u001b[0;36m<module>\u001b[0;34m()\u001b[0m\n\u001b[1;32m      1\u001b[0m \u001b[0;31m#df = pd.read_excel('/content/drive/MyDrive/Employee_attrition_dataset  (1).xlsx')  #Reading dataset using pandas\u001b[0m\u001b[0;34m\u001b[0m\u001b[0;34m\u001b[0m\u001b[0;34m\u001b[0m\u001b[0m\n\u001b[0;32m----> 2\u001b[0;31m \u001b[0mdf\u001b[0m \u001b[0;34m=\u001b[0m \u001b[0mpd\u001b[0m\u001b[0;34m.\u001b[0m\u001b[0mread_excel\u001b[0m\u001b[0;34m(\u001b[0m\u001b[0;34m'/content/drive/MyDrive/AP.xlsx'\u001b[0m\u001b[0;34m)\u001b[0m \u001b[0;31m#Reading dataset using pandas\u001b[0m\u001b[0;34m\u001b[0m\u001b[0;34m\u001b[0m\u001b[0m\n\u001b[0m",
            "\u001b[0;32m/usr/local/lib/python3.7/dist-packages/pandas/util/_decorators.py\u001b[0m in \u001b[0;36mwrapper\u001b[0;34m(*args, **kwargs)\u001b[0m\n\u001b[1;32m    309\u001b[0m                     \u001b[0mstacklevel\u001b[0m\u001b[0;34m=\u001b[0m\u001b[0mstacklevel\u001b[0m\u001b[0;34m,\u001b[0m\u001b[0;34m\u001b[0m\u001b[0;34m\u001b[0m\u001b[0m\n\u001b[1;32m    310\u001b[0m                 )\n\u001b[0;32m--> 311\u001b[0;31m             \u001b[0;32mreturn\u001b[0m \u001b[0mfunc\u001b[0m\u001b[0;34m(\u001b[0m\u001b[0;34m*\u001b[0m\u001b[0margs\u001b[0m\u001b[0;34m,\u001b[0m \u001b[0;34m**\u001b[0m\u001b[0mkwargs\u001b[0m\u001b[0;34m)\u001b[0m\u001b[0;34m\u001b[0m\u001b[0;34m\u001b[0m\u001b[0m\n\u001b[0m\u001b[1;32m    312\u001b[0m \u001b[0;34m\u001b[0m\u001b[0m\n\u001b[1;32m    313\u001b[0m         \u001b[0;32mreturn\u001b[0m \u001b[0mwrapper\u001b[0m\u001b[0;34m\u001b[0m\u001b[0;34m\u001b[0m\u001b[0m\n",
            "\u001b[0;32m/usr/local/lib/python3.7/dist-packages/pandas/io/excel/_base.py\u001b[0m in \u001b[0;36mread_excel\u001b[0;34m(io, sheet_name, header, names, index_col, usecols, squeeze, dtype, engine, converters, true_values, false_values, skiprows, nrows, na_values, keep_default_na, na_filter, verbose, parse_dates, date_parser, thousands, comment, skipfooter, convert_float, mangle_dupe_cols, storage_options)\u001b[0m\n\u001b[1;32m    362\u001b[0m     \u001b[0;32mif\u001b[0m \u001b[0;32mnot\u001b[0m \u001b[0misinstance\u001b[0m\u001b[0;34m(\u001b[0m\u001b[0mio\u001b[0m\u001b[0;34m,\u001b[0m \u001b[0mExcelFile\u001b[0m\u001b[0;34m)\u001b[0m\u001b[0;34m:\u001b[0m\u001b[0;34m\u001b[0m\u001b[0;34m\u001b[0m\u001b[0m\n\u001b[1;32m    363\u001b[0m         \u001b[0mshould_close\u001b[0m \u001b[0;34m=\u001b[0m \u001b[0;32mTrue\u001b[0m\u001b[0;34m\u001b[0m\u001b[0;34m\u001b[0m\u001b[0m\n\u001b[0;32m--> 364\u001b[0;31m         \u001b[0mio\u001b[0m \u001b[0;34m=\u001b[0m \u001b[0mExcelFile\u001b[0m\u001b[0;34m(\u001b[0m\u001b[0mio\u001b[0m\u001b[0;34m,\u001b[0m \u001b[0mstorage_options\u001b[0m\u001b[0;34m=\u001b[0m\u001b[0mstorage_options\u001b[0m\u001b[0;34m,\u001b[0m \u001b[0mengine\u001b[0m\u001b[0;34m=\u001b[0m\u001b[0mengine\u001b[0m\u001b[0;34m)\u001b[0m\u001b[0;34m\u001b[0m\u001b[0;34m\u001b[0m\u001b[0m\n\u001b[0m\u001b[1;32m    365\u001b[0m     \u001b[0;32melif\u001b[0m \u001b[0mengine\u001b[0m \u001b[0;32mand\u001b[0m \u001b[0mengine\u001b[0m \u001b[0;34m!=\u001b[0m \u001b[0mio\u001b[0m\u001b[0;34m.\u001b[0m\u001b[0mengine\u001b[0m\u001b[0;34m:\u001b[0m\u001b[0;34m\u001b[0m\u001b[0;34m\u001b[0m\u001b[0m\n\u001b[1;32m    366\u001b[0m         raise ValueError(\n",
            "\u001b[0;32m/usr/local/lib/python3.7/dist-packages/pandas/io/excel/_base.py\u001b[0m in \u001b[0;36m__init__\u001b[0;34m(self, path_or_buffer, engine, storage_options)\u001b[0m\n\u001b[1;32m   1231\u001b[0m         \u001b[0mself\u001b[0m\u001b[0;34m.\u001b[0m\u001b[0mstorage_options\u001b[0m \u001b[0;34m=\u001b[0m \u001b[0mstorage_options\u001b[0m\u001b[0;34m\u001b[0m\u001b[0;34m\u001b[0m\u001b[0m\n\u001b[1;32m   1232\u001b[0m \u001b[0;34m\u001b[0m\u001b[0m\n\u001b[0;32m-> 1233\u001b[0;31m         \u001b[0mself\u001b[0m\u001b[0;34m.\u001b[0m\u001b[0m_reader\u001b[0m \u001b[0;34m=\u001b[0m \u001b[0mself\u001b[0m\u001b[0;34m.\u001b[0m\u001b[0m_engines\u001b[0m\u001b[0;34m[\u001b[0m\u001b[0mengine\u001b[0m\u001b[0;34m]\u001b[0m\u001b[0;34m(\u001b[0m\u001b[0mself\u001b[0m\u001b[0;34m.\u001b[0m\u001b[0m_io\u001b[0m\u001b[0;34m,\u001b[0m \u001b[0mstorage_options\u001b[0m\u001b[0;34m=\u001b[0m\u001b[0mstorage_options\u001b[0m\u001b[0;34m)\u001b[0m\u001b[0;34m\u001b[0m\u001b[0;34m\u001b[0m\u001b[0m\n\u001b[0m\u001b[1;32m   1234\u001b[0m \u001b[0;34m\u001b[0m\u001b[0m\n\u001b[1;32m   1235\u001b[0m     \u001b[0;32mdef\u001b[0m \u001b[0m__fspath__\u001b[0m\u001b[0;34m(\u001b[0m\u001b[0mself\u001b[0m\u001b[0;34m)\u001b[0m\u001b[0;34m:\u001b[0m\u001b[0;34m\u001b[0m\u001b[0;34m\u001b[0m\u001b[0m\n",
            "\u001b[0;32m/usr/local/lib/python3.7/dist-packages/pandas/io/excel/_openpyxl.py\u001b[0m in \u001b[0;36m__init__\u001b[0;34m(self, filepath_or_buffer, storage_options)\u001b[0m\n\u001b[1;32m    519\u001b[0m             \u001b[0mpassed\u001b[0m \u001b[0mto\u001b[0m \u001b[0mfsspec\u001b[0m \u001b[0;32mfor\u001b[0m \u001b[0mappropriate\u001b[0m \u001b[0mURLs\u001b[0m \u001b[0;34m(\u001b[0m\u001b[0msee\u001b[0m\u001b[0;31m \u001b[0m\u001b[0;31m`\u001b[0m\u001b[0;31m`\u001b[0m\u001b[0m_get_filepath_or_buffer\u001b[0m\u001b[0;31m`\u001b[0m\u001b[0;31m`\u001b[0m\u001b[0;34m)\u001b[0m\u001b[0;34m\u001b[0m\u001b[0;34m\u001b[0m\u001b[0m\n\u001b[1;32m    520\u001b[0m         \"\"\"\n\u001b[0;32m--> 521\u001b[0;31m         \u001b[0mimport_optional_dependency\u001b[0m\u001b[0;34m(\u001b[0m\u001b[0;34m\"openpyxl\"\u001b[0m\u001b[0;34m)\u001b[0m\u001b[0;34m\u001b[0m\u001b[0;34m\u001b[0m\u001b[0m\n\u001b[0m\u001b[1;32m    522\u001b[0m         \u001b[0msuper\u001b[0m\u001b[0;34m(\u001b[0m\u001b[0;34m)\u001b[0m\u001b[0;34m.\u001b[0m\u001b[0m__init__\u001b[0m\u001b[0;34m(\u001b[0m\u001b[0mfilepath_or_buffer\u001b[0m\u001b[0;34m,\u001b[0m \u001b[0mstorage_options\u001b[0m\u001b[0;34m=\u001b[0m\u001b[0mstorage_options\u001b[0m\u001b[0;34m)\u001b[0m\u001b[0;34m\u001b[0m\u001b[0;34m\u001b[0m\u001b[0m\n\u001b[1;32m    523\u001b[0m \u001b[0;34m\u001b[0m\u001b[0m\n",
            "\u001b[0;32m/usr/local/lib/python3.7/dist-packages/pandas/compat/_optional.py\u001b[0m in \u001b[0;36mimport_optional_dependency\u001b[0;34m(name, extra, errors, min_version)\u001b[0m\n\u001b[1;32m    139\u001b[0m                 \u001b[0;32mreturn\u001b[0m \u001b[0;32mNone\u001b[0m\u001b[0;34m\u001b[0m\u001b[0;34m\u001b[0m\u001b[0m\n\u001b[1;32m    140\u001b[0m             \u001b[0;32melif\u001b[0m \u001b[0merrors\u001b[0m \u001b[0;34m==\u001b[0m \u001b[0;34m\"raise\"\u001b[0m\u001b[0;34m:\u001b[0m\u001b[0;34m\u001b[0m\u001b[0;34m\u001b[0m\u001b[0m\n\u001b[0;32m--> 141\u001b[0;31m                 \u001b[0;32mraise\u001b[0m \u001b[0mImportError\u001b[0m\u001b[0;34m(\u001b[0m\u001b[0mmsg\u001b[0m\u001b[0;34m)\u001b[0m\u001b[0;34m\u001b[0m\u001b[0;34m\u001b[0m\u001b[0m\n\u001b[0m\u001b[1;32m    142\u001b[0m \u001b[0;34m\u001b[0m\u001b[0m\n\u001b[1;32m    143\u001b[0m     \u001b[0;32mreturn\u001b[0m \u001b[0mmodule\u001b[0m\u001b[0;34m\u001b[0m\u001b[0;34m\u001b[0m\u001b[0m\n",
            "\u001b[0;31mImportError\u001b[0m: Pandas requires version '3.0.0' or newer of 'openpyxl' (version '2.5.9' currently installed).",
            "",
            "\u001b[0;31m---------------------------------------------------------------------------\u001b[0;32m\nNOTE: If your import is failing due to a missing package, you can\nmanually install dependencies using either !pip or !apt.\n\nTo view examples of installing some common dependencies, click the\n\"Open Examples\" button below.\n\u001b[0;31m---------------------------------------------------------------------------\u001b[0m\n"
          ],
          "errorDetails": {
            "actions": [
              {
                "action": "open_url",
                "actionText": "Open Examples",
                "url": "/notebooks/snippets/importing_libraries.ipynb"
              }
            ]
          }
        }
      ],
      "source": [
        "#df = pd.read_excel('/content/drive/MyDrive/Employee_attrition_dataset  (1).xlsx')  #Reading dataset using pandas\n",
        "df = pd.read_excel('/content/drive/MyDrive/AP.xlsx') #Reading dataset using pandas "
      ]
    },
    {
      "cell_type": "code",
      "execution_count": null,
      "metadata": {
        "id": "aUyis5jnJFdF"
      },
      "outputs": [],
      "source": [
        "df.head()    #printing first 5 data entries "
      ]
    },
    {
      "cell_type": "code",
      "execution_count": null,
      "metadata": {
        "id": "H5cB7ay7O7Mp"
      },
      "outputs": [],
      "source": [
        "df.shape  #Dimensions of the dataset"
      ]
    },
    {
      "cell_type": "code",
      "execution_count": null,
      "metadata": {
        "id": "0RbnYy44O7PP"
      },
      "outputs": [],
      "source": [
        "df.dtypes     #checking datatypes of each column "
      ]
    },
    {
      "cell_type": "code",
      "execution_count": null,
      "metadata": {
        "id": "IUnsV8uhO7Rv"
      },
      "outputs": [],
      "source": [
        "df.describe()"
      ]
    },
    {
      "cell_type": "code",
      "execution_count": null,
      "metadata": {
        "id": "KoTTqBVeO7VE"
      },
      "outputs": [],
      "source": [
        "df['Company name '].unique()   #Unique values of company "
      ]
    },
    {
      "cell_type": "code",
      "execution_count": null,
      "metadata": {
        "id": "5_PIREylQ1iM"
      },
      "outputs": [],
      "source": [
        "df.isnull().sum()   #checking for NULL values"
      ]
    },
    {
      "cell_type": "code",
      "execution_count": null,
      "metadata": {
        "id": "Hagv5WQAQz2g"
      },
      "outputs": [],
      "source": [
        "df.isnull().values.any()       #double checking if any NULL present "
      ]
    },
    {
      "cell_type": "code",
      "execution_count": null,
      "metadata": {
        "id": "GbfSoRKNQ9oN"
      },
      "outputs": [],
      "source": [
        "df.dropna(inplace=True)        #Dropping the NULL values"
      ]
    },
    {
      "cell_type": "code",
      "execution_count": null,
      "metadata": {
        "id": "2xOvoby0Rkn-"
      },
      "outputs": [],
      "source": [
        "df.isnull().values.any()       #Now checking if all NULL values removed "
      ]
    },
    {
      "cell_type": "code",
      "execution_count": null,
      "metadata": {
        "id": "D67eFQleys0W"
      },
      "outputs": [],
      "source": [
        "df[\"Attrition\"].value_counts()  #Value counts of attrition column "
      ]
    },
    {
      "cell_type": "code",
      "execution_count": null,
      "metadata": {
        "id": "R1mQgqsaXkWT"
      },
      "outputs": [],
      "source": [
        "#Calculating aggregate scoring given by the employers based upon their experience\n",
        "df['Agg_score']=(df['Career growth']+df['Company culture ']+df['Job security']+df['Salary and benefits']+df['Skill Development']+df['Work life balance']+df['Work Satisfaction'])/7"
      ]
    },
    {
      "cell_type": "code",
      "execution_count": null,
      "metadata": {
        "id": "e73lEtdQXkaH"
      },
      "outputs": [],
      "source": [
        "#df.drop('Career growth',inplace=True,axis=1)\n",
        "#df.drop('Company culture ',inplace=True,axis=1)\n",
        "#df.drop('Job security',inplace=True,axis=1)\n",
        "#df.drop('Salary and benefits',inplace=True,axis=1)\n",
        "#df.drop('Skill Development ',inplace=True,axis=1)\n",
        "#df.drop('Work life balance',inplace=True,axis=1)\n",
        "#df.drop('Work Satisfaction',inplace=True,axis=1)"
      ]
    },
    {
      "cell_type": "code",
      "execution_count": null,
      "metadata": {
        "id": "pI6nzIehkbg_"
      },
      "outputs": [],
      "source": [
        "df.head()"
      ]
    },
    {
      "cell_type": "code",
      "execution_count": null,
      "metadata": {
        "id": "kMd79wuZkbke"
      },
      "outputs": [],
      "source": [
        "df['Employee Age']=df['Employee Age'].astype(int)\n",
        "df['YearsAtCompany']=df['YearsAtCompany'].astype(int)"
      ]
    },
    {
      "cell_type": "code",
      "execution_count": null,
      "metadata": {
        "id": "B5PPjg84kboF"
      },
      "outputs": [],
      "source": [
        "df.head()"
      ]
    },
    {
      "cell_type": "code",
      "execution_count": null,
      "metadata": {
        "id": "R6yLTmwacRGg"
      },
      "outputs": [],
      "source": [
        "import re #regular expression\n",
        "import nltk #natural language tool kit \n",
        "nltk.download('punkt')\n",
        "from nltk.corpus import stopwords\n",
        "from nltk.tokenize import word_tokenize\n",
        "nltk.download('stopwords')   #natural language tool kit "
      ]
    },
    {
      "cell_type": "code",
      "execution_count": null,
      "metadata": {
        "id": "UezwOkm8Zdbc"
      },
      "outputs": [],
      "source": [
        "# iterate through the excel file \n",
        "for val in df['Review ']:  \n",
        "    # typecaste each val to string \n",
        "    val = str(val) \n",
        "    #print(val)\n",
        "\n",
        "val=str(val)\n",
        "punc=\"\"\n",
        "for i in df['Review ']:\n",
        "  i=str(i) \n",
        "  i.replace(\"\\n\",\" \")\n",
        "  punc=punc+i\n",
        "print(punc)"
      ]
    },
    {
      "cell_type": "code",
      "execution_count": null,
      "metadata": {
        "id": "5U2M4NYwyj1O"
      },
      "outputs": [],
      "source": [
        "punctuations = '''!()-[]{};:'\"\\,<>./?@#$%^&*_~'''\n",
        "no_punc=\"\"\n",
        "for val in punc:\n",
        "     if val not in punctuations:\n",
        "       no_punc=no_punc+val\n",
        "print(no_punc)"
      ]
    },
    {
      "cell_type": "code",
      "execution_count": null,
      "metadata": {
        "id": "xxYSH9BOf5sh"
      },
      "outputs": [],
      "source": [
        "no_punc=no_punc.lower()     #Converting to lower case \n",
        "no_punc"
      ]
    },
    {
      "cell_type": "code",
      "execution_count": null,
      "metadata": {
        "id": "xxxSpN5svjbR"
      },
      "outputs": [],
      "source": [
        "t=word_tokenize(no_punc)    #TOKENIZATION\n",
        "print(t)"
      ]
    },
    {
      "cell_type": "code",
      "execution_count": null,
      "metadata": {
        "id": "QWpN-dcopIFD"
      },
      "outputs": [],
      "source": [
        "#split the value  \n",
        "#word_tokens=[]\n",
        "#TOKENIZATION\n",
        "#for val in df['Review ']:\n",
        "#    tokens=word_tokenize(val) \n",
        "#    word_tokens.append(tokens)    \n"
      ]
    },
    {
      "cell_type": "code",
      "execution_count": null,
      "metadata": {
        "id": "NeSbfn6o4Ka7"
      },
      "outputs": [],
      "source": [
        "stop_words = set(stopwords.words('english'))\n",
        "print(stop_words)"
      ]
    },
    {
      "cell_type": "code",
      "execution_count": null,
      "metadata": {
        "id": "3dGfr-_IwF6M"
      },
      "outputs": [],
      "source": [
        "type(t)"
      ]
    },
    {
      "cell_type": "code",
      "execution_count": null,
      "metadata": {
        "id": "LbNScte75BFa"
      },
      "outputs": [],
      "source": [
        "filtered_sentence = [w for w in t if not w.lower() in stop_words]       #Removing stopwords \n",
        "filtered_sentence = []\n",
        " \n",
        "for w in t:\n",
        "    if w not in stop_words:\n",
        "        filtered_sentence.append(w)\n",
        " \n",
        "print('Tokenized list: ',t )\n",
        "print('Removed Stopwords Tokenized list: ',filtered_sentence)"
      ]
    },
    {
      "cell_type": "code",
      "execution_count": null,
      "metadata": {
        "id": "7jT-ihj3fFAy"
      },
      "outputs": [],
      "source": [
        "from nltk.stem import PorterStemmer   "
      ]
    },
    {
      "cell_type": "code",
      "execution_count": null,
      "metadata": {
        "id": "F9oHihJJeL-u"
      },
      "outputs": [],
      "source": [
        "filtered_sentence=str(filtered_sentence)       #Lemmatization \n",
        "porter=nltk.PorterStemmer()\n",
        "porter.stem(filtered_sentence)"
      ]
    },
    {
      "cell_type": "code",
      "execution_count": null,
      "metadata": {
        "id": "zUG1Hh_lpIHX"
      },
      "outputs": [],
      "source": [
        "wordcloud = WordCloud(max_font_size=200, max_words=200,background_color=\"black\").generate(filtered_sentence)\n",
        "plt.figure(figsize=(12,8))\n",
        "plt.imshow(wordcloud, interpolation=\"bilinear\")\n",
        "plt.axis(\"off\")\n",
        "plt.show()"
      ]
    },
    {
      "cell_type": "code",
      "execution_count": null,
      "metadata": {
        "id": "bJjRjPXOfjjX"
      },
      "outputs": [],
      "source": [
        "#df.drop('Sr. No',inplace=True,axis=1)"
      ]
    },
    {
      "cell_type": "code",
      "execution_count": null,
      "metadata": {
        "id": "eqPOyKLgoDNj"
      },
      "outputs": [],
      "source": [
        "from textblob import TextBlob  #processing textual data"
      ]
    },
    {
      "cell_type": "code",
      "execution_count": null,
      "metadata": {
        "id": "46rqC6mypIKx"
      },
      "outputs": [],
      "source": [
        "# Create quick lambda functions to find the polarity of each review\n",
        "# Terminal / Anaconda Navigator: conda install -c conda-forge textblob from textblob import TextBlob\n",
        "df['Review ']= df['Review '].astype(str) #Make sure about the correct data type\n",
        "pol = lambda x: TextBlob(x).sentiment.polarity\n",
        "df['polarity'] = df['Review '].apply(pol) # depending on the size of your data, this step may take some time.\n",
        "#import matplotlib.pyplot as plt\n",
        "#import seaborn as sns\n",
        "num_bins = 50\n",
        "plt.figure(figsize=(10,8))\n",
        "n, bins, patches = plt.hist(df.polarity, num_bins, facecolor='pink', alpha=0.5)\n",
        "plt.xlabel('Polarity')\n",
        "plt.ylabel('Number of Reviews')\n",
        "plt.title('Histogram of Polarity Score')\n",
        "plt.show();"
      ]
    },
    {
      "cell_type": "code",
      "execution_count": null,
      "metadata": {
        "id": "zqmjzyCqqMMO"
      },
      "outputs": [],
      "source": [
        "df.head()"
      ]
    },
    {
      "cell_type": "code",
      "execution_count": null,
      "metadata": {
        "id": "V-HgQ2AGU0cF"
      },
      "outputs": [],
      "source": [
        "sub = lambda x: TextBlob(x).sentiment.subjectivity\n",
        "df['subjectivity'] = df['Review '].apply(sub)\n",
        "df.sample(5)"
      ]
    },
    {
      "cell_type": "code",
      "execution_count": null,
      "metadata": {
        "id": "Kc35OtPRUsxh"
      },
      "outputs": [],
      "source": [
        "# Density Plot and Histogram of subjectivity\n",
        "plt.figure(figsize=(10,5))\n",
        "sns.distplot(df['subjectivity'], hist=True, kde=True,\n",
        "bins=int(30), color = 'yellow',\n",
        "hist_kws={'edgecolor':'black'},\n",
        "kde_kws={'linewidth': 4})\n",
        "plt.xlim([-0.001,1.001])\n",
        "plt.xlabel('Subjectivity', fontsize=13)\n",
        "plt.ylabel('Frequency', fontsize=13)\n",
        "plt.title('Distribution of Subjectivity Score', fontsize=15)"
      ]
    },
    {
      "cell_type": "markdown",
      "metadata": {
        "id": "jMccrbfdpWe4"
      },
      "source": [
        "**SCATTERPLOT OF POLARITY AND SUBJECTIVITY**"
      ]
    },
    {
      "cell_type": "code",
      "execution_count": null,
      "metadata": {
        "id": "tGxu4_d4U0mu"
      },
      "outputs": [],
      "source": [
        "plt.figure(figsize=(10,6))\n",
        "sns.scatterplot(x='polarity', y='subjectivity', data=df,palette='Spectral')\n",
        "plt.xlabel('Polarity', fontsize=13)\n",
        "plt.ylabel('Subjectivity', fontsize=13)\n",
        "plt.title('Polarity vs Subjectivity', fontsize=15)\n",
        "plt.show()"
      ]
    },
    {
      "cell_type": "code",
      "execution_count": null,
      "metadata": {
        "id": "j5udKqJPXzwk"
      },
      "outputs": [],
      "source": [
        "#df.loc[(df[\"Review \"] == 1) & (df.polarity == 1 ) & (df.subjectivity == 1)].sample(5).tolist()"
      ]
    },
    {
      "cell_type": "code",
      "execution_count": null,
      "metadata": {
        "id": "W7Bn6piIl4zM"
      },
      "outputs": [],
      "source": [
        "df['Agg_score']=round(df['Agg_score'],3)\n",
        "df['polarity']=round(df['polarity'],3)\n",
        "df['subjectivity']=round(df['subjectivity'],3)"
      ]
    },
    {
      "cell_type": "code",
      "execution_count": null,
      "metadata": {
        "id": "gAQp1OEnfZdC"
      },
      "outputs": [],
      "source": [
        "df.head()"
      ]
    },
    {
      "cell_type": "code",
      "execution_count": null,
      "metadata": {
        "id": "qoKLCNq4fgzK"
      },
      "outputs": [],
      "source": [
        "#plt.figure(figsize=(16,6))\n",
        "#sns.boxenplot(x='Employee Age', y='polarity', data=df)\n",
        "#plt.show();"
      ]
    },
    {
      "cell_type": "code",
      "execution_count": null,
      "metadata": {
        "id": "I7oqjjSJc2Ta"
      },
      "outputs": [],
      "source": [
        "df.dtypes"
      ]
    },
    {
      "cell_type": "code",
      "execution_count": null,
      "metadata": {
        "id": "ss4jzHN6YygG"
      },
      "outputs": [],
      "source": [
        "df.columns"
      ]
    },
    {
      "cell_type": "code",
      "execution_count": null,
      "metadata": {
        "id": "CjEnhjY9R6gt"
      },
      "outputs": [],
      "source": [
        "df.corr()"
      ]
    },
    {
      "cell_type": "code",
      "execution_count": null,
      "metadata": {
        "id": "jqPVpDrbRpYu"
      },
      "outputs": [],
      "source": [
        "def assign(x):\n",
        "  if x>0:\n",
        "    return 1\n",
        "  else:\n",
        "    return 0"
      ]
    },
    {
      "cell_type": "code",
      "execution_count": null,
      "metadata": {
        "id": "aZvO-pyASKa9"
      },
      "outputs": [],
      "source": [
        "df['Num_Review']=df['polarity'].apply(assign)"
      ]
    },
    {
      "cell_type": "code",
      "execution_count": null,
      "metadata": {
        "id": "EDhi1hizSW8D"
      },
      "outputs": [],
      "source": [
        "df.head()"
      ]
    },
    {
      "cell_type": "code",
      "execution_count": null,
      "metadata": {
        "id": "2xfjYlM_St9A"
      },
      "outputs": [],
      "source": [
        "plt.figure(figsize=(10,6))\n",
        "sns.boxenplot(x='Num_Review', y='polarity', data=df)\n",
        "plt.show();"
      ]
    },
    {
      "cell_type": "code",
      "execution_count": null,
      "metadata": {
        "id": "ukfFa2HYkjf0"
      },
      "outputs": [],
      "source": [
        "df.loc[ (df.polarity == 1 ) & (df.subjectivity == 1), \"Review \"].sample(5).tolist()"
      ]
    },
    {
      "cell_type": "code",
      "execution_count": null,
      "metadata": {
        "id": "0VMPRhkNUpyp"
      },
      "outputs": [],
      "source": [
        "df.loc[(df[\"Num_Review\"] == 0) & (df.polarity <0 ) & (df.subjectivity ==1),\"Review \"].head(5).tolist()"
      ]
    },
    {
      "cell_type": "code",
      "execution_count": null,
      "metadata": {
        "id": "kWuY5wPKSuAl"
      },
      "outputs": [],
      "source": [
        "plt.figure(figsize=(10,8))\n",
        "sns.scatterplot(x='polarity', y='subjectivity', hue=\"Num_Review\", data=df)\n",
        "plt.xlabel('Polarity', fontsize=13)\n",
        "plt.ylabel('Subjectivity', fontsize=13)\n",
        "plt.title('Polarity vs Subjectivity', fontsize=15)\n",
        "plt.show();"
      ]
    },
    {
      "cell_type": "code",
      "source": [
        "#df.loc[(df[\"Num_Review\"] == 1) & (df.polarity == -1 ) & (df.subjectivity ==1), \"Review \"].sample(5).tolist()"
      ],
      "metadata": {
        "id": "8ePWnxdU29sL"
      },
      "execution_count": null,
      "outputs": []
    },
    {
      "cell_type": "code",
      "execution_count": null,
      "metadata": {
        "id": "L7azlynTc2Zs"
      },
      "outputs": [],
      "source": [
        "df2=df\n",
        "df2.head()"
      ]
    },
    {
      "cell_type": "code",
      "execution_count": null,
      "metadata": {
        "id": "BJNxuStkW8sk"
      },
      "outputs": [],
      "source": [
        "df2.drop(\"Job Role \",axis=1,inplace=True) \n",
        "df2.drop(\"Review \",axis=1,inplace=True)\n",
        "df2.drop(\"Employee ID\",axis=1,inplace=True)\n",
        "df2.drop(\"Sr. No \",axis=1,inplace=True)\n",
        "df2.drop(\"Company type \",axis=1,inplace=True)\n",
        "df2.drop(\"location \",axis=1,inplace=True)\n",
        "df2.drop(\"Company name \",axis=1,inplace=True)\n",
        "df2.drop(\"Employee Department\",axis=1,inplace=True)\n",
        "df2.drop(\"polarity\",axis=1,inplace=True)\n",
        "df2.drop(\"subjectivity\",axis=1,inplace=True)"
      ]
    },
    {
      "cell_type": "code",
      "execution_count": null,
      "metadata": {
        "id": "jDk8rNKUW8vO"
      },
      "outputs": [],
      "source": [
        "df2.head()"
      ]
    },
    {
      "cell_type": "code",
      "execution_count": null,
      "metadata": {
        "id": "zSIjbeu4rupr"
      },
      "outputs": [],
      "source": [
        "from sklearn.preprocessing import LabelEncoder\n",
        "for column in df2.columns:\n",
        "  if df2[column].dtype==np.number:\n",
        "    continue\n",
        "  df2[column]=LabelEncoder().fit_transform(df2[column])"
      ]
    },
    {
      "cell_type": "code",
      "execution_count": null,
      "metadata": {
        "id": "izk1LsHFsTb6"
      },
      "outputs": [],
      "source": [
        "df2.head()"
      ]
    },
    {
      "cell_type": "code",
      "execution_count": null,
      "metadata": {
        "id": "XyVVaamhTnCc"
      },
      "outputs": [],
      "source": [
        "#Correlation heat map \n",
        "fig = plt.gcf()\n",
        "fig.set_size_inches(14,10)\n",
        "sns.heatmap(df2.corr(),annot=True,fmt='.0%')"
      ]
    },
    {
      "cell_type": "code",
      "execution_count": null,
      "metadata": {
        "id": "wVHmDQJ7B-8o"
      },
      "outputs": [],
      "source": [
        "Y=pd.DataFrame(df2['Attrition']) "
      ]
    },
    {
      "cell_type": "code",
      "execution_count": null,
      "metadata": {
        "id": "R1yA7jdY9_6B"
      },
      "outputs": [],
      "source": [
        "df2.drop('Attrition',axis=1,inplace=True)"
      ]
    },
    {
      "cell_type": "code",
      "execution_count": null,
      "metadata": {
        "id": "Q1tbg1WjBZCY"
      },
      "outputs": [],
      "source": [
        "X=df2.iloc[:,0:df2.shape[1]].values\n",
        "Y=Y.values"
      ]
    },
    {
      "cell_type": "code",
      "execution_count": null,
      "metadata": {
        "id": "RZ2lg5uK-MrL"
      },
      "outputs": [],
      "source": [
        "from sklearn.model_selection import train_test_split\n",
        "X_train,X_test,Y_train,Y_test=train_test_split(X,Y,test_size=0.30,random_state=0)"
      ]
    },
    {
      "cell_type": "markdown",
      "source": [
        "# **RANDOM FOREST**"
      ],
      "metadata": {
        "id": "Jyn_BKr4o793"
      }
    },
    {
      "cell_type": "code",
      "execution_count": null,
      "metadata": {
        "id": "aZ-92uGk-kUs"
      },
      "outputs": [],
      "source": [
        "from sklearn.ensemble import RandomForestClassifier\n",
        "forest=RandomForestClassifier(n_estimators=10,criterion='entropy',random_state=0)\n",
        "forest.fit(X_train,Y_train)"
      ]
    },
    {
      "cell_type": "code",
      "execution_count": null,
      "metadata": {
        "id": "SeRNFzIP-kYo"
      },
      "outputs": [],
      "source": [
        "print(forest.score(X_test,Y_test)*100)           "
      ]
    },
    {
      "cell_type": "code",
      "execution_count": null,
      "metadata": {
        "id": "HiK216VGPbSF"
      },
      "outputs": [],
      "source": [
        "from sklearn.metrics import confusion_matrix\n",
        "cm=confusion_matrix(Y_test,forest.predict(X_test))\n",
        "tn=cm[0][0]\n",
        "tp=cm[1][1]\n",
        "fn=cm[1][0]\n",
        "fp=cm[0][1]\n",
        "\n",
        "print(cm)\n",
        "print('model testing accuracy= {}'.format((tp+tn)/(tp+tn+fn+fp)))"
      ]
    },
    {
      "cell_type": "markdown",
      "source": [
        "# **LINEAR REGRESSION**"
      ],
      "metadata": {
        "id": "grFJcsdQozvm"
      }
    },
    {
      "cell_type": "code",
      "execution_count": null,
      "metadata": {
        "id": "mI295Q1HO7CC"
      },
      "outputs": [],
      "source": [
        "from sklearn import  linear_model\n",
        "from sklearn.metrics import mean_squared_error, r2_score"
      ]
    },
    {
      "cell_type": "code",
      "execution_count": null,
      "metadata": {
        "id": "ntljPHOwNYZ6"
      },
      "outputs": [],
      "source": [
        "reg = linear_model.LinearRegression()\n",
        " \n",
        "# train the model using the training sets\n",
        "reg.fit(X_train, Y_train)"
      ]
    },
    {
      "cell_type": "code",
      "execution_count": null,
      "metadata": {
        "id": "GceeuaASNZ-r"
      },
      "outputs": [],
      "source": [
        "reg.score(X_test, Y_test)"
      ]
    },
    {
      "cell_type": "markdown",
      "source": [
        "# **LOGISTIC REGRESSION**"
      ],
      "metadata": {
        "id": "Db3RgKCDot0y"
      }
    },
    {
      "cell_type": "code",
      "execution_count": null,
      "metadata": {
        "id": "lzag8Ne-VcxR"
      },
      "outputs": [],
      "source": [
        "from sklearn.linear_model import LogisticRegression"
      ]
    },
    {
      "cell_type": "code",
      "execution_count": null,
      "metadata": {
        "id": "QlDLlbVvVczt"
      },
      "outputs": [],
      "source": [
        "clf = LogisticRegression(random_state=0).fit(X, Y)\n",
        "clf.score(X,Y)"
      ]
    },
    {
      "cell_type": "markdown",
      "source": [
        "# **SUPPORT VECTOR MACHINE**"
      ],
      "metadata": {
        "id": "N1fddPObonE0"
      }
    },
    {
      "cell_type": "code",
      "execution_count": null,
      "metadata": {
        "id": "uc8x_mk0Wo9H"
      },
      "outputs": [],
      "source": [
        "#building model using SVM\n",
        "from sklearn import svm\n",
        "from sklearn.svm import SVC\n",
        "classifier_svm=SVC(kernel=\"rbf\") \n",
        "classifier_svm.fit(X_train,Y_train)\n",
        "SVC(C=1.0, cache_size=200, class_weight=None, coef0=0.0, decision_function_shape='ovr', degree=3, gamma='auto_deprecated', kernel='rbf', max_iter=-1, probability=False, random_state=None, shrinking=True, tol=0.001, verbose=False)\n",
        "\n",
        "#predicting 'Y' variable based on testing data of 'X' variables \n",
        "Y_pred_svm=classifier_svm.predict(X_test)\n",
        "Y_pred_svm\n",
        "classifier_svm.score(X_test, Y_test)"
      ]
    },
    {
      "cell_type": "markdown",
      "source": [
        "# **LGBM CLASSIFIER**"
      ],
      "metadata": {
        "id": "JAbeI5-WGodz"
      }
    },
    {
      "cell_type": "code",
      "source": [
        "import lightgbm as lgb\n",
        "clf = lgb.LGBMClassifier()\n",
        "clf.fit(X_train, Y_train)\n",
        "print(f\"Train score={clf.score(X_train, Y_train):.7}\")\n",
        "print(f\"Test score={clf.score(X_test, Y_test):.3}\")\n",
        "clf.score(X_test,Y_test)"
      ],
      "metadata": {
        "id": "7rR_AOmtGo0-"
      },
      "execution_count": null,
      "outputs": []
    },
    {
      "cell_type": "markdown",
      "source": [
        "# **GRADIENT BOOSTER**"
      ],
      "metadata": {
        "id": "2JSPuG1BHNkC"
      }
    },
    {
      "cell_type": "code",
      "source": [
        "from sklearn.ensemble import GradientBoostingClassifier\n",
        "gradient_booster = GradientBoostingClassifier(learning_rate=0.4)\n",
        "gradient_booster.fit(X_train,Y_train)\n",
        "gradient_booster.score(X_test,Y_test)"
      ],
      "metadata": {
        "id": "_dfyLBXDHTdn"
      },
      "execution_count": null,
      "outputs": []
    },
    {
      "cell_type": "markdown",
      "source": [
        "# **XGBoost** "
      ],
      "metadata": {
        "id": "PiIw79iKndlJ"
      }
    },
    {
      "cell_type": "code",
      "source": [
        "from xgboost import XGBClassifier"
      ],
      "metadata": {
        "id": "mieJ_HSelPxO"
      },
      "execution_count": null,
      "outputs": []
    },
    {
      "cell_type": "code",
      "execution_count": null,
      "metadata": {
        "id": "QSFybgqg9E1x"
      },
      "outputs": [],
      "source": [
        "xg=XGBClassifier()\n",
        "xg.fit(X_train,Y_train)\n",
        "y_pred=xg.predict(X_test)\n",
        "xg.score(X_test,Y_test)"
      ]
    },
    {
      "cell_type": "markdown",
      "source": [
        "# **THANK YOU**"
      ],
      "metadata": {
        "id": "dJoqQkN5IBQn"
      }
    }
  ],
  "metadata": {
    "accelerator": "GPU",
    "colab": {
      "collapsed_sections": [],
      "name": "APRS.ipynb",
      "provenance": []
    },
    "kernelspec": {
      "display_name": "Python 3",
      "name": "python3"
    },
    "language_info": {
      "name": "python"
    }
  },
  "nbformat": 4,
  "nbformat_minor": 0
}